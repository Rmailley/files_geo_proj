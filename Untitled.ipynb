{
 "cells": [
  {
   "cell_type": "code",
   "execution_count": 2,
   "id": "11a447da",
   "metadata": {},
   "outputs": [],
   "source": [
    "import geopandas as gpd"
   ]
  },
  {
   "cell_type": "code",
   "execution_count": 5,
   "id": "d4ba6fde",
   "metadata": {},
   "outputs": [],
   "source": [
    "df = gpd.read_file(\"dc_home_values.geojson\")"
   ]
  },
  {
   "cell_type": "code",
   "execution_count": 7,
   "id": "6e0df67c",
   "metadata": {},
   "outputs": [],
   "source": [
    "df.columns = [\"GEOID\", \"Median home value\", \"geometry\"]"
   ]
  },
  {
   "cell_type": "code",
   "execution_count": 9,
   "id": "ea95cd2d",
   "metadata": {},
   "outputs": [],
   "source": [
    "df.to_file(\"dc_home_values.geojson\")"
   ]
  },
  {
   "cell_type": "code",
   "execution_count": null,
   "id": "e6c0ca59",
   "metadata": {},
   "outputs": [],
   "source": []
  }
 ],
 "metadata": {
  "kernelspec": {
   "display_name": "Python 3 (ipykernel)",
   "language": "python",
   "name": "python3"
  },
  "language_info": {
   "codemirror_mode": {
    "name": "ipython",
    "version": 3
   },
   "file_extension": ".py",
   "mimetype": "text/x-python",
   "name": "python",
   "nbconvert_exporter": "python",
   "pygments_lexer": "ipython3",
   "version": "3.10.10"
  }
 },
 "nbformat": 4,
 "nbformat_minor": 5
}
